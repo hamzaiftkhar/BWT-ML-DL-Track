{
  "cells": [
    {
      "cell_type": "markdown",
      "id": "6c484fc5",
      "metadata": {},
      "source": [
        "# Task-1. Build a Simple CNN on the MNIST Dataset:\n",
        "   - Create a simple CNN architecture on the MNIST dataset and document what difference have you seen in results compared to your previous assignment where you had to develop a simple ANN model on the MNIST dataset.\n",
        "   - Document the architecture of your CNN, including the number of layers, types of layers, and parameters used.\n",
        "   - Train your CNN on the MNIST dataset and explore the use of callbacks (e.g., EarlyStopping, ModelCheckpoint) while training models.\n",
        "   - Document the training process, including data preprocessing steps, training parameters (learning rate, batch size, epochs), and any challenges faced.\n",
        "   - Evaluate the performance \n"
      ]
    },
    {
      "cell_type": "code",
      "execution_count": 1,
      "id": "4d298d11",
      "metadata": {
        "execution": {
          "iopub.execute_input": "2022-08-22T13:33:24.489563Z",
          "iopub.status.busy": "2022-08-22T13:33:24.488873Z",
          "iopub.status.idle": "2022-08-22T13:33:29.166163Z",
          "shell.execute_reply": "2022-08-22T13:33:29.165208Z"
        },
        "id": "4d298d11",
        "papermill": {
          "duration": 4.686933,
          "end_time": "2022-08-22T13:33:29.168538",
          "exception": false,
          "start_time": "2022-08-22T13:33:24.481605",
          "status": "completed"
        },
        "tags": []
      },
      "outputs": [],
      "source": [
        "import cv2   # it will allow us to load our images into the script\n",
        "import numpy as np   # used for reformatting our own images\n",
        "import tensorflow as tf   # main library used to load data sets, build neural networks, train them, etc.\n",
        "import matplotlib.pyplot as plt   # used for visualization"
      ]
    },
    {
      "cell_type": "code",
      "execution_count": 2,
      "id": "24441e51",
      "metadata": {
        "colab": {
          "base_uri": "https://localhost:8080/"
        },
        "execution": {
          "iopub.execute_input": "2022-08-22T13:33:29.193551Z",
          "iopub.status.busy": "2022-08-22T13:33:29.193018Z",
          "iopub.status.idle": "2022-08-22T13:33:30.546709Z",
          "shell.execute_reply": "2022-08-22T13:33:30.545807Z"
        },
        "id": "24441e51",
        "outputId": "690ede97-246b-44b2-b629-1fd1c9b6bb2c",
        "papermill": {
          "duration": 1.362681,
          "end_time": "2022-08-22T13:33:30.548799",
          "exception": false,
          "start_time": "2022-08-22T13:33:29.186118",
          "status": "completed"
        },
        "tags": []
      },
      "outputs": [
        {
          "name": "stdout",
          "output_type": "stream",
          "text": [
            "Downloading data from https://storage.googleapis.com/tensorflow/tf-keras-datasets/mnist.npz\n",
            "\u001b[1m11490434/11490434\u001b[0m \u001b[32m━━━━━━━━━━━━━━━━━━━━\u001b[0m\u001b[37m\u001b[0m \u001b[1m0s\u001b[0m 0us/step\n"
          ]
        }
      ],
      "source": [
        "(X_train, y_train), (X_test, y_test) = tf.keras.datasets.mnist.load_data()"
      ]
    },
    {
      "cell_type": "code",
      "execution_count": 3,
      "id": "5a0d0cfa",
      "metadata": {
        "colab": {
          "base_uri": "https://localhost:8080/"
        },
        "execution": {
          "iopub.execute_input": "2022-08-22T13:33:30.562360Z",
          "iopub.status.busy": "2022-08-22T13:33:30.562067Z",
          "iopub.status.idle": "2022-08-22T13:33:30.566208Z",
          "shell.execute_reply": "2022-08-22T13:33:30.565689Z"
        },
        "id": "5a0d0cfa",
        "outputId": "08dcd63d-5e6f-4939-8293-d8b506f88a9e",
        "papermill": {
          "duration": 0.012918,
          "end_time": "2022-08-22T13:33:30.568038",
          "exception": false,
          "start_time": "2022-08-22T13:33:30.555120",
          "status": "completed"
        },
        "tags": []
      },
      "outputs": [
        {
          "name": "stdout",
          "output_type": "stream",
          "text": [
            "The shape of the training inputs: (60000, 28, 28)\n",
            "The shape of the training labels: (60000,)\n",
            "The shape of the testing inputs: (10000, 28, 28)\n",
            "The shape of the testing labels: (10000,)\n"
          ]
        }
      ],
      "source": [
        "print('The shape of the training inputs:', X_train.shape)\n",
        "print('The shape of the training labels:',y_train.shape)\n",
        "print('The shape of the testing inputs:',X_test.shape)\n",
        "print('The shape of the testing labels:',y_test.shape)"
      ]
    },
    {
      "cell_type": "code",
      "execution_count": 4,
      "id": "7dacbbb3",
      "metadata": {
        "colab": {
          "base_uri": "https://localhost:8080/",
          "height": 433
        },
        "execution": {
          "iopub.execute_input": "2022-08-22T13:33:30.593028Z",
          "iopub.status.busy": "2022-08-22T13:33:30.592640Z",
          "iopub.status.idle": "2022-08-22T13:33:31.313253Z",
          "shell.execute_reply": "2022-08-22T13:33:31.312177Z"
        },
        "id": "7dacbbb3",
        "outputId": "3176b916-0e8f-477f-85e7-2464eb72bd1e",
        "papermill": {
          "duration": 0.729111,
          "end_time": "2022-08-22T13:33:31.314985",
          "exception": false,
          "start_time": "2022-08-22T13:33:30.585874",
          "status": "completed"
        },
        "tags": []
      },
      "outputs": [
        {
          "data": {
            "image/png": "[encoded data removed]",
            "text/plain": [
              "<Figure size 640x480 with 9 Axes>"
            ]
          },
          "metadata": {},
          "output_type": "display_data"
        }
      ],
      "source": [
        "# plotting the first 9 images in the train set of MNIST\n",
        "\n",
        "fig, axs = plt.subplots(3, 3)\n",
        "cnt = 0\n",
        "for i in range(3):\n",
        "     for j in range(3):\n",
        "         axs[i, j].imshow(X_train[cnt])\n",
        "         cnt += 1"
      ]
    },
    {
      "cell_type": "code",
      "execution_count": 5,
      "id": "00541497",
      "metadata": {
        "execution": {
          "iopub.execute_input": "2022-08-22T13:33:31.343148Z",
          "iopub.status.busy": "2022-08-22T13:33:31.342255Z",
          "iopub.status.idle": "2022-08-22T13:33:31.635319Z",
          "shell.execute_reply": "2022-08-22T13:33:31.634397Z"
        },
        "id": "00541497",
        "papermill": {
          "duration": 0.302588,
          "end_time": "2022-08-22T13:33:31.637551",
          "exception": false,
          "start_time": "2022-08-22T13:33:31.334963",
          "status": "completed"
        },
        "tags": []
      },
      "outputs": [],
      "source": [
        "X_train = tf.keras.utils.normalize(X_train, axis=1)\n",
        "X_test = tf.keras.utils.normalize(X_test, axis=1)"
      ]
    },
    {
      "cell_type": "code",
      "execution_count": 6,
      "id": "c0ffc00d",
      "metadata": {
        "execution": {
          "iopub.execute_input": "2022-08-22T13:33:31.666946Z",
          "iopub.status.busy": "2022-08-22T13:33:31.665882Z",
          "iopub.status.idle": "2022-08-22T13:33:31.715162Z",
          "shell.execute_reply": "2022-08-22T13:33:31.714283Z"
        },
        "id": "c0ffc00d",
        "papermill": {
          "duration": 0.058657,
          "end_time": "2022-08-22T13:33:31.716859",
          "exception": false,
          "start_time": "2022-08-22T13:33:31.658202",
          "status": "completed"
        },
        "tags": []
      },
      "outputs": [],
      "source": [
        "model = tf.keras.models.Sequential()"
      ]
    },
    {
      "cell_type": "markdown",
      "id": "6b129230",
      "metadata": {
        "id": "6b129230",
        "papermill": {
          "duration": 0.006256,
          "end_time": "2022-08-22T13:33:31.729944",
          "exception": false,
          "start_time": "2022-08-22T13:33:31.723688",
          "status": "completed"
        },
        "tags": []
      },
      "source": [
        "- Now we have a model, which doesn't have any layers in it. Those have to be added manually."
      ]
    },
    {
      "cell_type": "code",
      "execution_count": 7,
      "id": "9dee91d1",
      "metadata": {
        "colab": {
          "base_uri": "https://localhost:8080/"
        },
        "execution": {
          "iopub.execute_input": "2022-08-22T13:33:31.744328Z",
          "iopub.status.busy": "2022-08-22T13:33:31.743882Z",
          "iopub.status.idle": "2022-08-22T13:33:31.758859Z",
          "shell.execute_reply": "2022-08-22T13:33:31.758227Z"
        },
        "id": "9dee91d1",
        "outputId": "8555e672-4927-4f7b-a4d5-2e837b849129",
        "papermill": {
          "duration": 0.023896,
          "end_time": "2022-08-22T13:33:31.760425",
          "exception": false,
          "start_time": "2022-08-22T13:33:31.736529",
          "status": "completed"
        },
        "tags": []
      },
      "outputs": [
        {
          "name": "stderr",
          "output_type": "stream",
          "text": [
            "/usr/local/lib/python3.10/dist-packages/keras/src/layers/reshaping/flatten.py:37: UserWarning: Do not pass an `input_shape`/`input_dim` argument to a layer. When using Sequential models, prefer using an `Input(shape)` object as the first layer in the model instead.\n",
            "  super().__init__(**kwargs)\n"
          ]
        }
      ],
      "source": [
        "model.add(tf.keras.layers.Flatten(input_shape=(28,28)))   # input layer"
      ]
    },
    {
      "cell_type": "markdown",
      "id": "fb038eec",
      "metadata": {
        "id": "fb038eec",
        "papermill": {
          "duration": 0.006261,
          "end_time": "2022-08-22T13:33:31.773230",
          "exception": false,
          "start_time": "2022-08-22T13:33:31.766969",
          "status": "completed"
        },
        "tags": []
      },
      "source": [
        "- We start out by adding a so-called *Flatten* layer as our first layer.\n",
        "- In order to add a layer to our model, we use the *add* function. Then we can choose the kind of layer that we want from the *layers* module.\n",
        "- We specified an input shape of 28x28 which represents the resolution of images.\n",
        "- What a flattened layer basically does is it flattens the input and makes it one dimensional. So instead of a 28x28 grid, we end up with 784 neurons lined up."
      ]
    },
    {
      "cell_type": "code",
      "execution_count": 8,
      "id": "7bce0d0c",
      "metadata": {
        "execution": {
          "iopub.execute_input": "2022-08-22T13:33:31.787418Z",
          "iopub.status.busy": "2022-08-22T13:33:31.786971Z",
          "iopub.status.idle": "2022-08-22T13:33:31.825340Z",
          "shell.execute_reply": "2022-08-22T13:33:31.824618Z"
        },
        "id": "7bce0d0c",
        "papermill": {
          "duration": 0.047534,
          "end_time": "2022-08-22T13:33:31.827251",
          "exception": false,
          "start_time": "2022-08-22T13:33:31.779717",
          "status": "completed"
        },
        "tags": []
      },
      "outputs": [],
      "source": [
        "model.add(tf.keras.layers.Dense(units=128, activation=tf.nn.relu))   # 1st hidden layer\n",
        "model.add(tf.keras.layers.Dense(units=128, activation=tf.nn.relu))   # 2nd hidden layer"
      ]
    },
    {
      "cell_type": "markdown",
      "id": "4090fe4b",
      "metadata": {
        "id": "4090fe4b",
        "papermill": {
          "duration": 0.006583,
          "end_time": "2022-08-22T13:33:31.841006",
          "exception": false,
          "start_time": "2022-08-22T13:33:31.834423",
          "status": "completed"
        },
        "tags": []
      },
      "source": [
        "- We added two dense layers. These are our hidden layers and increase the complexity of our model.\n",
        "- Both layers have 128 neurons each.\n",
        "- The activation function is ReLU function.\n",
        "- Dense layers connect every neuron of this layer with all the neurons of the next and previous layer."
      ]
    },
    {
      "cell_type": "code",
      "execution_count": 9,
      "id": "214136b3",
      "metadata": {
        "execution": {
          "iopub.execute_input": "2022-08-22T13:33:31.855991Z",
          "iopub.status.busy": "2022-08-22T13:33:31.855500Z",
          "iopub.status.idle": "2022-08-22T13:33:31.865759Z",
          "shell.execute_reply": "2022-08-22T13:33:31.865137Z"
        },
        "id": "214136b3",
        "papermill": {
          "duration": 0.019815,
          "end_time": "2022-08-22T13:33:31.867493",
          "exception": false,
          "start_time": "2022-08-22T13:33:31.847678",
          "status": "completed"
        },
        "tags": []
      },
      "outputs": [],
      "source": [
        "model.add(tf.keras.layers.Dense(units=10, activation=tf.nn.softmax))   # output layer"
      ]
    },
    {
      "cell_type": "markdown",
      "id": "9ae19e3e",
      "metadata": {
        "id": "9ae19e3e",
        "papermill": {
          "duration": 0.006575,
          "end_time": "2022-08-22T13:33:31.881038",
          "exception": false,
          "start_time": "2022-08-22T13:33:31.874463",
          "status": "completed"
        },
        "tags": []
      },
      "source": [
        "- Last but not least we add an output layer. This one is also a dense layer but it only has 10 neurons and a different activation function.\n",
        "- The values of the 10 neurons indicate how much our model believes that the respective number is the right classification.\n",
        "- The first neuron is for the zero, the second for the one and so on.\n",
        "- The activation function that we use here is the *softmax* function. This function scales the output values so that they all add upto one. Thus it transforms the absolute values into relative values.-"
      ]
    },
    {
      "cell_type": "code",
      "execution_count": 10,
      "id": "faa568c1",
      "metadata": {
        "colab": {
          "base_uri": "https://localhost:8080/",
          "height": 268
        },
        "execution": {
          "iopub.execute_input": "2022-08-22T13:33:31.896262Z",
          "iopub.status.busy": "2022-08-22T13:33:31.895815Z",
          "iopub.status.idle": "2022-08-22T13:33:31.900229Z",
          "shell.execute_reply": "2022-08-22T13:33:31.899452Z"
        },
        "id": "faa568c1",
        "outputId": "4791451c-b37c-4bd1-b3f3-1b93217b9458",
        "papermill": {
          "duration": 0.014468,
          "end_time": "2022-08-22T13:33:31.902355",
          "exception": false,
          "start_time": "2022-08-22T13:33:31.887887",
          "status": "completed"
        },
        "tags": []
      },
      "outputs": [
        {
          "data": {
            "text/html": [
              "<pre style=\"white-space:pre;overflow-x:auto;line-height:normal;font-family:Menlo,'DejaVu Sans Mono',consolas,'Courier New',monospace\"><span style=\"font-weight: bold\">Model: \"sequential\"</span>\n",
              "</pre>\n"
            ],
            "text/plain": [
              "\u001b[1mModel: \"sequential\"\u001b[0m\n"
            ]
          },
          "metadata": {},
          "output_type": "display_data"
        },
        {
          "data": {
            "text/html": [
              "<pre style=\"white-space:pre;overflow-x:auto;line-height:normal;font-family:Menlo,'DejaVu Sans Mono',consolas,'Courier New',monospace\">┏━━━━━━━━━━━━━━━━━━━━━━━━━━━━━━━━━━━━━━┳━━━━━━━━━━━━━━━━━━━━━━━━━━━━━┳━━━━━━━━━━━━━━━━━┓\n",
              "┃<span style=\"font-weight: bold\"> Layer (type)                         </span>┃<span style=\"font-weight: bold\"> Output Shape                </span>┃<span style=\"font-weight: bold\">         Param # </span>┃\n",
              "┡━━━━━━━━━━━━━━━━━━━━━━━━━━━━━━━━━━━━━━╇━━━━━━━━━━━━━━━━━━━━━━━━━━━━━╇━━━━━━━━━━━━━━━━━┩\n",
              "│ flatten (<span style=\"color: #0087ff; text-decoration-color: #0087ff\">Flatten</span>)                    │ (<span style=\"color: #00d7ff; text-decoration-color: #00d7ff\">None</span>, <span style=\"color: #00af00; text-decoration-color: #00af00\">784</span>)                 │               <span style=\"color: #00af00; text-decoration-color: #00af00\">0</span> │\n",
              "├──────────────────────────────────────┼─────────────────────────────┼─────────────────┤\n",
              "│ dense (<span style=\"color: #0087ff; text-decoration-color: #0087ff\">Dense</span>)                        │ (<span style=\"color: #00d7ff; text-decoration-color: #00d7ff\">None</span>, <span style=\"color: #00af00; text-decoration-color: #00af00\">128</span>)                 │         <span style=\"color: #00af00; text-decoration-color: #00af00\">100,480</span> │\n",
              "├──────────────────────────────────────┼─────────────────────────────┼─────────────────┤\n",
              "│ dense_1 (<span style=\"color: #0087ff; text-decoration-color: #0087ff\">Dense</span>)                      │ (<span style=\"color: #00d7ff; text-decoration-color: #00d7ff\">None</span>, <span style=\"color: #00af00; text-decoration-color: #00af00\">128</span>)                 │          <span style=\"color: #00af00; text-decoration-color: #00af00\">16,512</span> │\n",
              "├──────────────────────────────────────┼─────────────────────────────┼─────────────────┤\n",
              "│ dense_2 (<span style=\"color: #0087ff; text-decoration-color: #0087ff\">Dense</span>)                      │ (<span style=\"color: #00d7ff; text-decoration-color: #00d7ff\">None</span>, <span style=\"color: #00af00; text-decoration-color: #00af00\">10</span>)                  │           <span style=\"color: #00af00; text-decoration-color: #00af00\">1,290</span> │\n",
              "└──────────────────────────────────────┴─────────────────────────────┴─────────────────┘\n",
              "</pre>\n"
            ],
            "text/plain": [
              "┏━━━━━━━━━━━━━━━━━━━━━━━━━━━━━━━━━━━━━━┳━━━━━━━━━━━━━━━━━━━━━━━━━━━━━┳━━━━━━━━━━━━━━━━━┓\n",
              "┃\u001b[1m \u001b[0m\u001b[1mLayer (type)                        \u001b[0m\u001b[1m \u001b[0m┃\u001b[1m \u001b[0m\u001b[1mOutput Shape               \u001b[0m\u001b[1m \u001b[0m┃\u001b[1m \u001b[0m\u001b[1m        Param #\u001b[0m\u001b[1m \u001b[0m┃\n",
              "┡━━━━━━━━━━━━━━━━━━━━━━━━━━━━━━━━━━━━━━╇━━━━━━━━━━━━━━━━━━━━━━━━━━━━━╇━━━━━━━━━━━━━━━━━┩\n",
              "│ flatten (\u001b[38;5;33mFlatten\u001b[0m)                    │ (\u001b[38;5;45mNone\u001b[0m, \u001b[38;5;34m784\u001b[0m)                 │               \u001b[38;5;34m0\u001b[0m │\n",
              "├──────────────────────────────────────┼─────────────────────────────┼─────────────────┤\n",
              "│ dense (\u001b[38;5;33mDense\u001b[0m)                        │ (\u001b[38;5;45mNone\u001b[0m, \u001b[38;5;34m128\u001b[0m)                 │         \u001b[38;5;34m100,480\u001b[0m │\n",
              "├──────────────────────────────────────┼─────────────────────────────┼─────────────────┤\n",
              "│ dense_1 (\u001b[38;5;33mDense\u001b[0m)                      │ (\u001b[38;5;45mNone\u001b[0m, \u001b[38;5;34m128\u001b[0m)                 │          \u001b[38;5;34m16,512\u001b[0m │\n",
              "├──────────────────────────────────────┼─────────────────────────────┼─────────────────┤\n",
              "│ dense_2 (\u001b[38;5;33mDense\u001b[0m)                      │ (\u001b[38;5;45mNone\u001b[0m, \u001b[38;5;34m10\u001b[0m)                  │           \u001b[38;5;34m1,290\u001b[0m │\n",
              "└──────────────────────────────────────┴─────────────────────────────┴─────────────────┘\n"
            ]
          },
          "metadata": {},
          "output_type": "display_data"
        },
        {
          "data": {
            "text/html": [
              "<pre style=\"white-space:pre;overflow-x:auto;line-height:normal;font-family:Menlo,'DejaVu Sans Mono',consolas,'Courier New',monospace\"><span style=\"font-weight: bold\"> Total params: </span><span style=\"color: #00af00; text-decoration-color: #00af00\">118,282</span> (462.04 KB)\n",
              "</pre>\n"
            ],
            "text/plain": [
              "\u001b[1m Total params: \u001b[0m\u001b[38;5;34m118,282\u001b[0m (462.04 KB)\n"
            ]
          },
          "metadata": {},
          "output_type": "display_data"
        },
        {
          "data": {
            "text/html": [
              "<pre style=\"white-space:pre;overflow-x:auto;line-height:normal;font-family:Menlo,'DejaVu Sans Mono',consolas,'Courier New',monospace\"><span style=\"font-weight: bold\"> Trainable params: </span><span style=\"color: #00af00; text-decoration-color: #00af00\">118,282</span> (462.04 KB)\n",
              "</pre>\n"
            ],
            "text/plain": [
              "\u001b[1m Trainable params: \u001b[0m\u001b[38;5;34m118,282\u001b[0m (462.04 KB)\n"
            ]
          },
          "metadata": {},
          "output_type": "display_data"
        },
        {
          "data": {
            "text/html": [
              "<pre style=\"white-space:pre;overflow-x:auto;line-height:normal;font-family:Menlo,'DejaVu Sans Mono',consolas,'Courier New',monospace\"><span style=\"font-weight: bold\"> Non-trainable params: </span><span style=\"color: #00af00; text-decoration-color: #00af00\">0</span> (0.00 B)\n",
              "</pre>\n"
            ],
            "text/plain": [
              "\u001b[1m Non-trainable params: \u001b[0m\u001b[38;5;34m0\u001b[0m (0.00 B)\n"
            ]
          },
          "metadata": {},
          "output_type": "display_data"
        }
      ],
      "source": [
        "model.summary()"
      ]
    },
    {
      "cell_type": "code",
      "execution_count": 11,
      "id": "796f8185",
      "metadata": {
        "execution": {
          "iopub.execute_input": "2022-08-22T13:33:31.930529Z",
          "iopub.status.busy": "2022-08-22T13:33:31.930153Z",
          "iopub.status.idle": "2022-08-22T13:33:31.940544Z",
          "shell.execute_reply": "2022-08-22T13:33:31.939968Z"
        },
        "id": "796f8185",
        "papermill": {
          "duration": 0.019645,
          "end_time": "2022-08-22T13:33:31.942261",
          "exception": false,
          "start_time": "2022-08-22T13:33:31.922616",
          "status": "completed"
        },
        "tags": []
      },
      "outputs": [],
      "source": [
        "model.compile(optimizer='adam', loss='sparse_categorical_crossentropy', metrics=['accuracy'])"
      ]
    },
    {
      "cell_type": "code",
      "execution_count": 12,
      "id": "00bcdc09",
      "metadata": {
        "colab": {
          "base_uri": "https://localhost:8080/"
        },
        "execution": {
          "iopub.execute_input": "2022-08-22T13:33:31.970204Z",
          "iopub.status.busy": "2022-08-22T13:33:31.969909Z",
          "iopub.status.idle": "2022-08-22T13:33:44.503073Z",
          "shell.execute_reply": "2022-08-22T13:33:44.501916Z"
        },
        "id": "00bcdc09",
        "outputId": "2d36aea6-fb1d-4590-8563-78f36e45bd69",
        "papermill": {
          "duration": 12.542662,
          "end_time": "2022-08-22T13:33:44.504788",
          "exception": false,
          "start_time": "2022-08-22T13:33:31.962126",
          "status": "completed"
        },
        "tags": []
      },
      "outputs": [
        {
          "name": "stdout",
          "output_type": "stream",
          "text": [
            "Epoch 1/10\n",
            "\u001b[1m600/600\u001b[0m \u001b[32m━━━━━━━━━━━━━━━━━━━━\u001b[0m\u001b[37m\u001b[0m \u001b[1m3s\u001b[0m 3ms/step - accuracy: 0.8288 - loss: 0.6391\n",
            "Epoch 2/10\n",
            "\u001b[1m600/600\u001b[0m \u001b[32m━━━━━━━━━━━━━━━━━━━━\u001b[0m\u001b[37m\u001b[0m \u001b[1m2s\u001b[0m 3ms/step - accuracy: 0.9514 - loss: 0.1606\n",
            "Epoch 3/10\n",
            "\u001b[1m600/600\u001b[0m \u001b[32m━━━━━━━━━━━━━━━━━━━━\u001b[0m\u001b[37m\u001b[0m \u001b[1m3s\u001b[0m 4ms/step - accuracy: 0.9696 - loss: 0.1022\n",
            "Epoch 4/10\n",
            "\u001b[1m600/600\u001b[0m \u001b[32m━━━━━━━━━━━━━━━━━━━━\u001b[0m\u001b[37m\u001b[0m \u001b[1m3s\u001b[0m 5ms/step - accuracy: 0.9770 - loss: 0.0761\n",
            "Epoch 5/10\n",
            "\u001b[1m600/600\u001b[0m \u001b[32m━━━━━━━━━━━━━━━━━━━━\u001b[0m\u001b[37m\u001b[0m \u001b[1m4s\u001b[0m 3ms/step - accuracy: 0.9822 - loss: 0.0577\n",
            "Epoch 6/10\n",
            "\u001b[1m600/600\u001b[0m \u001b[32m━━━━━━━━━━━━━━━━━━━━\u001b[0m\u001b[37m\u001b[0m \u001b[1m3s\u001b[0m 3ms/step - accuracy: 0.9872 - loss: 0.0425\n",
            "Epoch 7/10\n",
            "\u001b[1m600/600\u001b[0m \u001b[32m━━━━━━━━━━━━━━━━━━━━\u001b[0m\u001b[37m\u001b[0m \u001b[1m3s\u001b[0m 3ms/step - accuracy: 0.9897 - loss: 0.0351\n",
            "Epoch 8/10\n",
            "\u001b[1m600/600\u001b[0m \u001b[32m━━━━━━━━━━━━━━━━━━━━\u001b[0m\u001b[37m\u001b[0m \u001b[1m4s\u001b[0m 7ms/step - accuracy: 0.9922 - loss: 0.0266\n",
            "Epoch 9/10\n",
            "\u001b[1m600/600\u001b[0m \u001b[32m━━━━━━━━━━━━━━━━━━━━\u001b[0m\u001b[37m\u001b[0m \u001b[1m3s\u001b[0m 4ms/step - accuracy: 0.9926 - loss: 0.0230\n",
            "Epoch 10/10\n",
            "\u001b[1m600/600\u001b[0m \u001b[32m━━━━━━━━━━━━━━━━━━━━\u001b[0m\u001b[37m\u001b[0m \u001b[1m2s\u001b[0m 3ms/step - accuracy: 0.9955 - loss: 0.0159\n"
          ]
        },
        {
          "data": {
            "text/plain": [
              "<keras.src.callbacks.history.History at 0x79db42404af0>"
            ]
          },
          "execution_count": 12,
          "metadata": {},
          "output_type": "execute_result"
        }
      ],
      "source": [
        "model.fit(X_train, y_train, epochs=10, batch_size=100)"
      ]
    },
    {
      "cell_type": "markdown",
      "id": "291f57ed",
      "metadata": {
        "id": "291f57ed",
        "papermill": {
          "duration": 0.020145,
          "end_time": "2022-08-22T13:33:44.545136",
          "exception": false,
          "start_time": "2022-08-22T13:33:44.524991",
          "status": "completed"
        },
        "tags": []
      },
      "source": [
        "- *epochs* - This number defines how many times our model is going to see the same data over and over again.\n",
        "- *batch_size* - This refers to the number of training examples utilized in one iteration."
      ]
    },
    {
      "cell_type": "code",
      "execution_count": 13,
      "id": "4582fc22",
      "metadata": {
        "colab": {
          "base_uri": "https://localhost:8080/"
        },
        "execution": {
          "iopub.execute_input": "2022-08-22T13:33:44.625495Z",
          "iopub.status.busy": "2022-08-22T13:33:44.624620Z",
          "iopub.status.idle": "2022-08-22T13:33:45.110871Z",
          "shell.execute_reply": "2022-08-22T13:33:45.109870Z"
        },
        "id": "4582fc22",
        "outputId": "bbc1762a-7f38-43b2-93b8-1586efa7d7db",
        "papermill": {
          "duration": 0.508615,
          "end_time": "2022-08-22T13:33:45.112627",
          "exception": false,
          "start_time": "2022-08-22T13:33:44.604012",
          "status": "completed"
        },
        "tags": []
      },
      "outputs": [
        {
          "name": "stdout",
          "output_type": "stream",
          "text": [
            "\u001b[1m313/313\u001b[0m \u001b[32m━━━━━━━━━━━━━━━━━━━━\u001b[0m\u001b[37m\u001b[0m \u001b[1m1s\u001b[0m 1ms/step - accuracy: 0.9712 - loss: 0.0998\n",
            "0.08844985067844391\n",
            "0.9753999710083008\n"
          ]
        }
      ],
      "source": [
        "loss, accuracy = model.evaluate(X_test, y_test)\n",
        "print(loss)\n",
        "print(accuracy)"
      ]
    },
    {
      "cell_type": "code",
      "execution_count": 14,
      "id": "bb1f6429",
      "metadata": {
        "colab": {
          "base_uri": "https://localhost:8080/"
        },
        "execution": {
          "iopub.execute_input": "2022-08-22T13:33:45.193902Z",
          "iopub.status.busy": "2022-08-22T13:33:45.193571Z",
          "iopub.status.idle": "2022-08-22T13:33:45.553381Z",
          "shell.execute_reply": "2022-08-22T13:33:45.552414Z"
        },
        "id": "bb1f6429",
        "outputId": "ccceab5a-8bf2-4d11-8680-0084a16e842d",
        "papermill": {
          "duration": 0.38249,
          "end_time": "2022-08-22T13:33:45.555196",
          "exception": false,
          "start_time": "2022-08-22T13:33:45.172706",
          "status": "completed"
        },
        "tags": []
      },
      "outputs": [
        {
          "name": "stdout",
          "output_type": "stream",
          "text": [
            "\u001b[1m313/313\u001b[0m \u001b[32m━━━━━━━━━━━━━━━━━━━━\u001b[0m\u001b[37m\u001b[0m \u001b[1m1s\u001b[0m 2ms/step\n"
          ]
        },
        {
          "data": {
            "text/plain": [
              "array([[4.3142979e-11, 2.5216790e-10, 5.8806515e-10, ..., 9.9999946e-01,\n",
              "        2.3058180e-11, 1.4189668e-08],\n",
              "       [1.3856963e-14, 1.2239306e-07, 9.9999982e-01, ..., 2.4154071e-12,\n",
              "        2.1214198e-13, 3.2955568e-19],\n",
              "       [9.1038871e-10, 9.9998158e-01, 3.3176839e-06, ..., 1.0921968e-05,\n",
              "        2.1468679e-06, 4.9989531e-08],\n",
              "       ...,\n",
              "       [1.1788522e-13, 1.0548905e-08, 1.1030760e-13, ..., 4.7000622e-08,\n",
              "        6.3644223e-09, 8.2690889e-07],\n",
              "       [5.6393844e-12, 7.9663259e-10, 9.0174314e-13, ..., 1.9794798e-10,\n",
              "        9.6384159e-05, 8.4554184e-13],\n",
              "       [1.4635161e-11, 1.8559142e-11, 1.7265286e-09, ..., 1.7286684e-15,\n",
              "        4.5052764e-10, 4.8247945e-15]], dtype=float32)"
            ]
          },
          "execution_count": 14,
          "metadata": {},
          "output_type": "execute_result"
        }
      ],
      "source": [
        "prediction = model.predict([X_test])\n",
        "prediction"
      ]
    },
    {
      "cell_type": "markdown",
      "id": "15a38f20",
      "metadata": {
        "id": "15a38f20",
        "papermill": {
          "duration": 0.02021,
          "end_time": "2022-08-22T13:33:45.596271",
          "exception": false,
          "start_time": "2022-08-22T13:33:45.576061",
          "status": "completed"
        },
        "tags": []
      },
      "source": [
        "- This prediction consists of the ten activations or probabilities from the output neurons.\n",
        "- Since we need to generate a result out of that, we are going to use the *argmax* function. This function returns the index of the highest value.\n",
        "- In this case this is equivalent to the digit with the highest probability or activation."
      ]
    },
    {
      "cell_type": "code",
      "execution_count": 15,
      "id": "b5944156",
      "metadata": {
        "colab": {
          "base_uri": "https://localhost:8080/"
        },
        "execution": {
          "iopub.execute_input": "2022-08-22T13:33:45.639397Z",
          "iopub.status.busy": "2022-08-22T13:33:45.638790Z",
          "iopub.status.idle": "2022-08-22T13:33:45.644801Z",
          "shell.execute_reply": "2022-08-22T13:33:45.643794Z"
        },
        "id": "b5944156",
        "outputId": "d11f2e2f-b41a-445f-a2dc-5a762128866b",
        "papermill": {
          "duration": 0.029776,
          "end_time": "2022-08-22T13:33:45.646717",
          "exception": false,
          "start_time": "2022-08-22T13:33:45.616941",
          "status": "completed"
        },
        "tags": []
      },
      "outputs": [
        {
          "name": "stdout",
          "output_type": "stream",
          "text": [
            "Probabilities:  [9.99991477e-01 1.21357063e-10 2.36020242e-06 8.88033258e-11\n",
            " 1.06921305e-10 1.33425209e-08 3.26437913e-07 1.39692462e-08\n",
            " 3.76893128e-10 5.67300867e-06]\n",
            "\n",
            "\n",
            "Prediction:  0\n"
          ]
        }
      ],
      "source": [
        "# let us do prediction for single image\n",
        "\n",
        "print('Probabilities: ', prediction[10])\n",
        "print('\\n')\n",
        "print('Prediction: ', np.argmax(prediction[10]))"
      ]
    },
    {
      "cell_type": "code",
      "execution_count": 16,
      "id": "d8fa54a3",
      "metadata": {
        "colab": {
          "base_uri": "https://localhost:8080/",
          "height": 430
        },
        "execution": {
          "iopub.execute_input": "2022-08-22T13:33:45.689187Z",
          "iopub.status.busy": "2022-08-22T13:33:45.688876Z",
          "iopub.status.idle": "2022-08-22T13:33:45.814177Z",
          "shell.execute_reply": "2022-08-22T13:33:45.813377Z"
        },
        "id": "d8fa54a3",
        "outputId": "7f66f2b2-d654-43f8-f110-09a1f7816112",
        "papermill": {
          "duration": 0.149158,
          "end_time": "2022-08-22T13:33:45.816372",
          "exception": false,
          "start_time": "2022-08-22T13:33:45.667214",
          "status": "completed"
        },
        "tags": []
      },
      "outputs": [
        {
          "data": {
            "image/png": "[encoded data removed]",
            "text/plain": [
              "<Figure size 640x480 with 1 Axes>"
            ]
          },
          "metadata": {},
          "output_type": "display_data"
        }
      ],
      "source": [
        "# visualize the image\n",
        "\n",
        "plt.imshow(X_test[10])\n",
        "plt.show()"
      ]
    },
    {
      "cell_type": "markdown",
      "id": "b4e0c3b0",
      "metadata": {
        "id": "b4e0c3b0",
        "papermill": {
          "duration": 0.021403,
          "end_time": "2022-08-22T13:33:45.863873",
          "exception": false,
          "start_time": "2022-08-22T13:33:45.842470",
          "status": "completed"
        },
        "tags": []
      },
      "source": [
        "- We can see that our model is pretty accurate. But it can still make mistakes, especially if we tend to write digits in a very unusual way."
      ]
    }
  ],
  "metadata": {
    "colab": {
      "provenance": []
    },
    "kernelspec": {
      "display_name": "Python 3",
      "language": "python",
      "name": "python3"
    },
    "language_info": {
      "codemirror_mode": {
        "name": "ipython",
        "version": 3
      },
      "file_extension": ".py",
      "mimetype": "text/x-python",
      "name": "python",
      "nbconvert_exporter": "python",
      "pygments_lexer": "ipython3",
      "version": "3.7.12"
    },
    "papermill": {
      "default_parameters": {},
      "duration": 31.925337,
      "end_time": "2022-08-22T13:33:49.332862",
      "environment_variables": {},
      "exception": null,
      "input_path": "__notebook__.ipynb",
      "output_path": "__notebook__.ipynb",
      "parameters": {},
      "start_time": "2022-08-22T13:33:17.407525",
      "version": "2.3.4"
    }
  },
  "nbformat": 4,
  "nbformat_minor": 5
}
