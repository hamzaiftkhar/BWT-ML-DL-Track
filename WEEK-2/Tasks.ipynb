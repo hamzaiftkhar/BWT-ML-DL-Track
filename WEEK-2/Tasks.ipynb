{
 "cells": [
  {
   "cell_type": "markdown",
   "metadata": {},
   "source": [
    "## Question Number-01\n",
    "\n",
    "### Approch toward Problem\n",
    "- Used a dictionary to store user inputs.\n",
    "- Validated the email using a regular expression.\n",
    "    -Regular expressions are used to match string patterns. Learnt from [here](https://www.w3schools.com/python/python_regex.asp)\n",
    "- Displayed a formatted message with user details."
   ]
  },
  {
   "cell_type": "code",
   "execution_count": 1,
   "metadata": {},
   "outputs": [
    {
     "name": "stdout",
     "output_type": "stream",
     "text": [
      "Hello Hamza, you are 20 years old, your email is hamza@gmail.com, and your favorite number is 06.\n"
     ]
    }
   ],
   "source": [
    "                                                           # Question No.1\n",
    "import re\n",
    "\n",
    "def get_user_info():\n",
    "    name = input(\"Enter your name: \")\n",
    "    age = input(\"Enter your age: \")\n",
    "    email = input(\"Enter your email: \")\n",
    "    favorite_number = input(\"Enter your favorite number: \")\n",
    "\n",
    "    user_info = {\n",
    "        \"name\": name,\n",
    "        \"age\": age,\n",
    "        \"email\": email,\n",
    "        \"favorite_number\": favorite_number\n",
    "    }\n",
    "\n",
    "    if not re.match(r\"[^@]+@[^@]+\\.[^@]+\", email):\n",
    "        print(\"Invalid email format.\")\n",
    "    else:\n",
    "        print(f\"Hello {name}, you are {age} years old, your email is {email}, and your favorite number is {favorite_number}.\")\n",
    "\n",
    "get_user_info()\n"
   ]
  },
  {
   "cell_type": "markdown",
   "metadata": {},
   "source": [
    "## Question Number-02\n",
    "\n",
    "### Apporch toward Problem\n",
    "- Defined a function is_even to check if a number is even(Function checks weather number is divisible by 2 or not).\n",
    "- Used the function to print whether the number is even or odd."
   ]
  },
  {
   "cell_type": "code",
   "execution_count": 2,
   "metadata": {},
   "outputs": [
    {
     "name": "stdout",
     "output_type": "stream",
     "text": [
      "7 is odd.\n"
     ]
    }
   ],
   "source": [
    "                                                    # Question No.2\n",
    "#Even or Odd Function\n",
    "def is_even(number):\n",
    "    return number % 2 == 0\n",
    "\n",
    "number = int(input(\"Enter a number: \"))\n",
    "if is_even(number):\n",
    "    print(f\"{number} is even.\")\n",
    "else:\n",
    "    print(f\"{number} is odd.\")\n"
   ]
  },
  {
   "cell_type": "markdown",
   "metadata": {},
   "source": [
    "## Question Number-03\n",
    "\n",
    "### Apporch toward Problem\n",
    "\n",
    "- Defined a function convert_temperature to convert between Celsius and Fahrenheit(\"C\" is use to check Celsius and \"F\" is use to Check \"Fahrenheit\" and then their respective formulas are used).\n",
    "- Used if-else statements to determine the conversion formula.\n",
    "- Displayed the converted temperature."
   ]
  },
  {
   "cell_type": "code",
   "execution_count": 4,
   "metadata": {},
   "outputs": [
    {
     "name": "stdout",
     "output_type": "stream",
     "text": [
      "Input Temperature is 39.0 degrees C\n",
      "The converted temperature is 102.2 degrees Fahrenheit.\n"
     ]
    }
   ],
   "source": [
    "                                                    # Question No.3\n",
    "def convert_temperature(temp, scale):\n",
    "    if scale.upper() == \"C\":\n",
    "        converted_temp = (temp * 9/5) + 32\n",
    "        converted_scale = \"Fahrenheit\"\n",
    "    elif scale.upper() == \"F\":\n",
    "        converted_temp = (temp - 32) * 5/9\n",
    "        converted_scale = \"Celsius\"\n",
    "    else:\n",
    "        return None\n",
    "\n",
    "    return converted_temp, converted_scale\n",
    "\n",
    "temp = float(input(\"Enter temperature: \"))\n",
    "scale = input(\"Enter scale (C/F): \")\n",
    "print(f\"Input Temperature is {temp} degrees {scale}\")\n",
    "result = convert_temperature(temp, scale)\n",
    "if result:\n",
    "    print(f\"The converted temperature is {result[0]} degrees {result[1]}.\")\n",
    "else:\n",
    "    print(\"Invalid scale.\")\n"
   ]
  },
  {
   "cell_type": "markdown",
   "metadata": {},
   "source": [
    "## Question Number-04\n",
    "\n",
    "### Apporch toward Problem\n",
    "\n",
    "- Defined a function find_max_min to find the maximum and minimum in a list.\n",
    "- Collected 5 numbers from the user, stored them in a list, and used the function to find and display the max and min values."
   ]
  },
  {
   "cell_type": "code",
   "execution_count": 6,
   "metadata": {},
   "outputs": [
    {
     "name": "stdout",
     "output_type": "stream",
     "text": [
      "The numbers are: [8.0, 3.0, 6.0, 1.0, 2.0]\n",
      "The maximum number is 8.0 and the minimum number is 1.0.\n"
     ]
    }
   ],
   "source": [
    "                                                    # Question No.4\n",
    "def find_max_min(numbers_list):\n",
    "    return max(numbers_list), min(numbers_list)\n",
    "\n",
    "numbers = []\n",
    "for _ in range(5):\n",
    "    num = float(input(\"Enter a number: \"))\n",
    "    numbers.append(num)\n",
    "\n",
    "print(f\"The numbers are: {numbers}\")\n",
    "\n",
    "max_num, min_num = find_max_min(numbers)\n",
    "print(f\"The maximum number is {max_num} and the minimum number is {min_num}.\")\n"
   ]
  },
  {
   "cell_type": "markdown",
   "metadata": {},
   "source": [
    "## Question Number-05\n",
    "\n",
    "### Apporch toward Problem\n",
    "\n",
    "- Collected details for 3 students and stored them in a list of tuples.\n",
    "- Converted this list into a dictionary with student names as keys and (age, grade) tuples as values.\n",
    "- Displayed the student details."
   ]
  },
  {
   "cell_type": "code",
   "execution_count": 7,
   "metadata": {},
   "outputs": [
    {
     "name": "stdout",
     "output_type": "stream",
     "text": [
      "Student details:\n",
      "Name: Hamza, Age: 20, Grade: A\n",
      "Name: Hamad, Age: 18, Grade: B+\n",
      "Name: Ali, Age: 22, Grade: C+\n"
     ]
    }
   ],
   "source": [
    "                                                    # Question No.5\n",
    "\n",
    "students = []\n",
    "for _ in range(3):\n",
    "    name = input(\"Enter student's name: \")\n",
    "    age = input(\"Enter student's age: \")\n",
    "    grade = input(\"Enter student's grade: \")\n",
    "    students.append((name, age, grade))\n",
    "\n",
    "students_dict = {student[0]: (student[1], student[2]) for student in students}\n",
    "\n",
    "print(\"Student details:\")\n",
    "for name, details in students_dict.items():\n",
    "    print(f\"Name: {name}, Age: {details[0]}, Grade: {details[1]}\")\n"
   ]
  },
  {
   "cell_type": "markdown",
   "metadata": {},
   "source": [
    "## Question Number-06\n",
    "\n",
    "### Apporch toward Problem\n",
    "\n",
    "- Check if the item exists in the inventory.\n",
    "- If it exists, update its quantity by adding the provided quantity.\n",
    "- Ensure the quantity does not drop below zero using the max() function.\n",
    "- If the item does not exist, add it to the inventory with the given quantity, ensuring it is non-negative using the max() function."
   ]
  },
  {
   "cell_type": "code",
   "execution_count": 8,
   "metadata": {},
   "outputs": [
    {
     "name": "stdout",
     "output_type": "stream",
     "text": [
      "Updated inventory:\n",
      "apples: 7\n",
      "bananas: 20\n",
      "oranges: 0\n",
      "pears: 5\n",
      "grapes: 7\n"
     ]
    }
   ],
   "source": [
    "                                                    # Question No.6\n",
    "\n",
    "def update_inventory(inventory_dict, item, quantity):\n",
    "    if item in inventory_dict:\n",
    "        inventory_dict[item] = max(0, inventory_dict[item] + quantity)\n",
    "    else:\n",
    "        inventory_dict[item] = max(0, quantity)\n",
    "    return inventory_dict\n",
    "\n",
    "inventory = {\n",
    "    \"apples\": 10,\n",
    "    \"bananas\": 20,\n",
    "    \"oranges\": 15,\n",
    "    \"pears\": 5,\n",
    "    \"grapes\": 8\n",
    "}\n",
    "\n",
    "for _ in range(3):\n",
    "    item = input(\"Enter the item to update: \")\n",
    "    quantity = int(input(\"Enter the quantity to add/remove: \"))\n",
    "    inventory = update_inventory(inventory, item, quantity)\n",
    "\n",
    "print(\"Updated inventory:\")\n",
    "for item, quantity in inventory.items():\n",
    "    print(f\"{item}: {quantity}\")\n"
   ]
  }
 ],
 "metadata": {
  "kernelspec": {
   "display_name": "Python 3",
   "language": "python",
   "name": "python3"
  },
  "language_info": {
   "codemirror_mode": {
    "name": "ipython",
    "version": 3
   },
   "file_extension": ".py",
   "mimetype": "text/x-python",
   "name": "python",
   "nbconvert_exporter": "python",
   "pygments_lexer": "ipython3",
   "version": "3.11.7"
  }
 },
 "nbformat": 4,
 "nbformat_minor": 2
}
